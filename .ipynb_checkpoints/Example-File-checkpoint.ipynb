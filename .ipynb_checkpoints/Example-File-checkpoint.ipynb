{
 "cells": [
  {
   "cell_type": "markdown",
   "id": "a2d8f037-81b2-4b98-82d0-4b10189926c3",
   "metadata": {},
   "source": [
    "This is an example file "
   ]
  },
  {
   "cell_type": "code",
   "execution_count": 1,
   "id": "5d272f83-bfe9-4e14-a5c7-624f829110cb",
   "metadata": {},
   "outputs": [
    {
     "name": "stdout",
     "output_type": "stream",
     "text": [
      "Hello,World\n"
     ]
    }
   ],
   "source": [
    "print(\"Hello,World\")"
   ]
  },
  {
   "cell_type": "code",
   "execution_count": null,
   "id": "f1163536-8755-409c-bb8c-b6aed604d204",
   "metadata": {},
   "outputs": [],
   "source": []
  }
 ],
 "metadata": {
  "kernelspec": {
   "display_name": "Python 3 (ipykernel)",
   "language": "python",
   "name": "python3"
  },
  "language_info": {
   "codemirror_mode": {
    "name": "ipython",
    "version": 3
   },
   "file_extension": ".py",
   "mimetype": "text/x-python",
   "name": "python",
   "nbconvert_exporter": "python",
   "pygments_lexer": "ipython3",
   "version": "3.10.12"
  }
 },
 "nbformat": 4,
 "nbformat_minor": 5
}
