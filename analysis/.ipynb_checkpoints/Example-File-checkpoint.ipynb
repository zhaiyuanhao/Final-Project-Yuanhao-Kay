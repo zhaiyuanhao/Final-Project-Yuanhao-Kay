{
 "cells": [
  {
   "cell_type": "markdown",
   "id": "e500f599-618a-4d4b-a029-4cb488f05982",
   "metadata": {},
   "source": [
    "---\n",
    "format: \n",
    "  html:\n",
    "    toc: false\n",
    "    page-layout: full\n",
    "execute:\n",
    "    echo: false\n",
    "---"
   ]
  },
  {
   "cell_type": "markdown",
   "id": "9e0e05b9-0409-4c0e-8128-95ed52b07620",
   "metadata": {},
   "source": [
    "# Example File \n",
    "this is an example of file."
   ]
  },
  {
   "cell_type": "markdown",
   "id": "a2d8f037-81b2-4b98-82d0-4b10189926c3",
   "metadata": {},
   "source": [
    "This is an example file "
   ]
  },
  {
   "cell_type": "code",
   "execution_count": 3,
   "id": "5d272f83-bfe9-4e14-a5c7-624f829110cb",
   "metadata": {},
   "outputs": [
    {
     "name": "stdout",
     "output_type": "stream",
     "text": [
      "Hello,World\n"
     ]
    }
   ],
   "source": [
    "#| echo: true \n",
    "#| code-fold: true\n",
    "\n",
    "print(\"Hello,World\")"
   ]
  },
  {
   "cell_type": "code",
   "execution_count": null,
   "id": "2d99c99b-7147-4411-807a-1c29d9d4c0df",
   "metadata": {},
   "outputs": [],
   "source": []
  }
 ],
 "metadata": {
  "kernelspec": {
   "display_name": "Python 3 (ipykernel)",
   "language": "python",
   "name": "python3"
  },
  "language_info": {
   "codemirror_mode": {
    "name": "ipython",
    "version": 3
   },
   "file_extension": ".py",
   "mimetype": "text/x-python",
   "name": "python",
   "nbconvert_exporter": "python",
   "pygments_lexer": "ipython3",
   "version": "3.10.12"
  }
 },
 "nbformat": 4,
 "nbformat_minor": 5
}
